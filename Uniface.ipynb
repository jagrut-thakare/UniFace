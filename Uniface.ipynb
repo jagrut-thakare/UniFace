{
  "nbformat": 4,
  "nbformat_minor": 0,
  "metadata": {
    "colab": {
      "provenance": [],
      "gpuType": "T4"
    },
    "kernelspec": {
      "name": "python3",
      "display_name": "Python 3"
    },
    "language_info": {
      "name": "python"
    },
    "accelerator": "GPU"
  },
  "cells": [
    {
      "cell_type": "code",
      "source": [
        "!pip install -q condacolab gdown"
      ],
      "metadata": {
        "id": "pjldg02co-9J"
      },
      "execution_count": null,
      "outputs": []
    },
    {
      "cell_type": "code",
      "source": [
        "import condacolab\n",
        "condacolab.install()"
      ],
      "metadata": {
        "id": "Tbhc4eo9EV-w",
        "colab": {
          "base_uri": "https://localhost:8080/"
        },
        "outputId": "9f4763ff-5249-4f0a-bffa-0792be5b5deb"
      },
      "execution_count": 1,
      "outputs": [
        {
          "output_type": "stream",
          "name": "stdout",
          "text": [
            "⏬ Downloading https://github.com/jaimergp/miniforge/releases/download/24.11.2-1_colab/Miniforge3-colab-24.11.2-1_colab-Linux-x86_64.sh...\n",
            "📦 Installing...\n",
            "📌 Adjusting configuration...\n",
            "🩹 Patching environment...\n",
            "⏲ Done in 0:00:11\n",
            "🔁 Restarting kernel...\n"
          ]
        }
      ]
    },
    {
      "cell_type": "code",
      "source": [
        "# Re-import condacolab after restart\n",
        "import condacolab\n",
        "condacolab.check()\n",
        "\n",
        "# Clone UniFace repo\n",
        "!git clone https://github.com/jagrut-thakare/UniFace.git\n",
        "%cd UniFace\n",
        "\n",
        "# Create a new environment\n",
        "!conda create -n uniface python=3.6.12 -y\n",
        "\n",
        "# Install dependencies inside the new env (optional if install.sh handles it)\n",
        "!conda run -n uniface pip install -q torch torchvision opencv-python scipy ninja\n",
        "\n",
        "# Run your install script inside the new environment\n",
        "! conda run -n uniface bash install.sh\n"
      ],
      "metadata": {
        "id": "84Fs576UU49E"
      },
      "execution_count": null,
      "outputs": []
    },
    {
      "cell_type": "code",
      "source": [
        "! conda run -n uniface pip install -q torch torchvision opencv-python scipy ninja\n"
      ],
      "metadata": {
        "colab": {
          "base_uri": "https://localhost:8080/"
        },
        "id": "dFC7g0N1HO8T",
        "outputId": "07734120-679d-40e0-c192-551bcdf756a7"
      },
      "execution_count": 6,
      "outputs": [
        {
          "output_type": "stream",
          "name": "stdout",
          "text": [
            "WARNING: Running pip as the 'root' user can result in broken permissions and conflicting behaviour with the system package manager. It is recommended to use a virtual environment instead: https://pip.pypa.io/warnings/venv\n",
            "\n"
          ]
        }
      ]
    },
    {
      "cell_type": "code",
      "source": [
        "import gdown\n",
        "\n",
        "# Create directory if not exists\n",
        "!mkdir -p session/reenact/checkpoints/\n",
        "\n",
        "# Google Drive file ID\n",
        "file_id = \"1Y-Sm-_HmvPSBwz16Ol8apwnBUCYU4_tH\"\n",
        "output_path = \"session/reenact/checkpoints/1000000.pt\"  # you can change the filename as needed\n",
        "\n",
        "# Download\n",
        "gdown.download(f\"https://drive.google.com/uc?id={file_id}\", output_path, quiet=False)\n"
      ],
      "metadata": {
        "id": "6nNi5LziM67X",
        "colab": {
          "base_uri": "https://localhost:8080/",
          "height": 144
        },
        "outputId": "b4df84fc-4edd-44dd-bfe2-4da27615257e"
      },
      "execution_count": 4,
      "outputs": [
        {
          "output_type": "stream",
          "name": "stderr",
          "text": [
            "Downloading...\n",
            "From (original): https://drive.google.com/uc?id=1Y-Sm-_HmvPSBwz16Ol8apwnBUCYU4_tH\n",
            "From (redirected): https://drive.google.com/uc?id=1Y-Sm-_HmvPSBwz16Ol8apwnBUCYU4_tH&confirm=t&uuid=10c76597-286c-45f8-b73a-26e105905ccd\n",
            "To: /content/UniFace/session/reenact/checkpoints/1000000.pt\n",
            "100%|██████████| 980M/980M [00:09<00:00, 105MB/s]\n"
          ]
        },
        {
          "output_type": "execute_result",
          "data": {
            "text/plain": [
              "'session/reenact/checkpoints/1000000.pt'"
            ],
            "application/vnd.google.colaboratory.intrinsic+json": {
              "type": "string"
            }
          },
          "metadata": {},
          "execution_count": 4
        }
      ]
    },
    {
      "cell_type": "code",
      "source": [
        "import gdown\n",
        "\n",
        "# Create directory if not exists\n",
        "!mkdir -p session/swap/checkpoints/\n",
        "\n",
        "# Google Drive file ID\n",
        "file_id = \"1H3DHfld_M5F940bZMuoT_bDkW3tJZvbq\"\n",
        "output_path = \"session/swap/checkpoints/500000.pt\"  # you can change the filename as needed\n",
        "\n",
        "# Download\n",
        "gdown.download(f\"https://drive.google.com/uc?id={file_id}\", output_path, quiet=False)\n"
      ],
      "metadata": {
        "colab": {
          "base_uri": "https://localhost:8080/",
          "height": 144
        },
        "id": "nmd4rtTvMndw",
        "outputId": "764f6f34-1844-40aa-de98-1017ff72bf3d"
      },
      "execution_count": 8,
      "outputs": [
        {
          "output_type": "stream",
          "name": "stderr",
          "text": [
            "Downloading...\n",
            "From (original): https://drive.google.com/uc?id=1H3DHfld_M5F940bZMuoT_bDkW3tJZvbq\n",
            "From (redirected): https://drive.google.com/uc?id=1H3DHfld_M5F940bZMuoT_bDkW3tJZvbq&confirm=t&uuid=4ea0634b-1092-490c-bdbc-85ed7b4a74c4\n",
            "To: /content/UniFace/session/swap/checkpoints/500000.pt\n",
            "100%|██████████| 1.98G/1.98G [00:07<00:00, 253MB/s]\n"
          ]
        },
        {
          "output_type": "execute_result",
          "data": {
            "text/plain": [
              "'session/swap/checkpoints/500000.pt'"
            ],
            "application/vnd.google.colaboratory.intrinsic+json": {
              "type": "string"
            }
          },
          "metadata": {},
          "execution_count": 8
        }
      ]
    },
    {
      "cell_type": "code",
      "source": [
        "!conda run -n uniface python generate_swap.py"
      ],
      "metadata": {
        "id": "0HQiuZH9FRci",
        "colab": {
          "base_uri": "https://localhost:8080/"
        },
        "outputId": "89bbcf63-bec5-4bb6-fcb9-693c02333e82"
      },
      "execution_count": 11,
      "outputs": [
        {
          "output_type": "stream",
          "name": "stdout",
          "text": [
            "Traceback (most recent call last):\n",
            "  File \"/content/UniFace/generate_swap.py\", line 13, in <module>\n",
            "    import torch\n",
            "ModuleNotFoundError: No module named 'torch'\n"
          ]
        }
      ]
    }
  ]
}